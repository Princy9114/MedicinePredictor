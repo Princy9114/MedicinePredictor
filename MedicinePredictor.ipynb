{
 "cells": [
  {
   "cell_type": "code",
   "execution_count": 1,
   "id": "a153d0e1-1f13-4740-83f6-76f078162dcc",
   "metadata": {},
   "outputs": [
    {
     "name": "stdout",
     "output_type": "stream",
     "text": [
      "Requirement already satisfied: wordcloud in c:\\users\\princy\\anaconda3\\lib\\site-packages (1.9.3)\n",
      "Requirement already satisfied: matplotlib in c:\\users\\princy\\anaconda3\\lib\\site-packages (3.8.0)\n",
      "Requirement already satisfied: numpy>=1.6.1 in c:\\users\\princy\\anaconda3\\lib\\site-packages (from wordcloud) (1.26.4)\n",
      "Requirement already satisfied: pillow in c:\\users\\princy\\anaconda3\\lib\\site-packages (from wordcloud) (10.2.0)\n",
      "Requirement already satisfied: contourpy>=1.0.1 in c:\\users\\princy\\anaconda3\\lib\\site-packages (from matplotlib) (1.2.0)\n",
      "Requirement already satisfied: cycler>=0.10 in c:\\users\\princy\\anaconda3\\lib\\site-packages (from matplotlib) (0.11.0)\n",
      "Requirement already satisfied: fonttools>=4.22.0 in c:\\users\\princy\\anaconda3\\lib\\site-packages (from matplotlib) (4.25.0)\n",
      "Requirement already satisfied: kiwisolver>=1.0.1 in c:\\users\\princy\\anaconda3\\lib\\site-packages (from matplotlib) (1.4.4)\n",
      "Requirement already satisfied: packaging>=20.0 in c:\\users\\princy\\anaconda3\\lib\\site-packages (from matplotlib) (23.1)\n",
      "Requirement already satisfied: pyparsing>=2.3.1 in c:\\users\\princy\\anaconda3\\lib\\site-packages (from matplotlib) (3.0.9)\n",
      "Requirement already satisfied: python-dateutil>=2.7 in c:\\users\\princy\\anaconda3\\lib\\site-packages (from matplotlib) (2.8.2)\n",
      "Requirement already satisfied: six>=1.5 in c:\\users\\princy\\anaconda3\\lib\\site-packages (from python-dateutil>=2.7->matplotlib) (1.16.0)\n",
      "Note: you may need to restart the kernel to use updated packages.\n"
     ]
    }
   ],
   "source": [
    "pip install wordcloud matplotlib"
   ]
  },
  {
   "cell_type": "code",
   "execution_count": 2,
   "id": "7206bebf-9f99-4013-9991-5931cb06ad16",
   "metadata": {},
   "outputs": [
    {
     "name": "stdout",
     "output_type": "stream",
     "text": [
      "(833, 10)\n"
     ]
    },
    {
     "data": {
      "text/html": [
       "<div>\n",
       "<style scoped>\n",
       "    .dataframe tbody tr th:only-of-type {\n",
       "        vertical-align: middle;\n",
       "    }\n",
       "\n",
       "    .dataframe tbody tr th {\n",
       "        vertical-align: top;\n",
       "    }\n",
       "\n",
       "    .dataframe thead th {\n",
       "        text-align: right;\n",
       "    }\n",
       "</style>\n",
       "<table border=\"1\" class=\"dataframe\">\n",
       "  <thead>\n",
       "    <tr style=\"text-align: right;\">\n",
       "      <th></th>\n",
       "      <th>Age</th>\n",
       "      <th>Date of Data Entry</th>\n",
       "      <th>Gender</th>\n",
       "      <th>Diagnosis</th>\n",
       "      <th>Name of Drug</th>\n",
       "      <th>Dosage (gram)</th>\n",
       "      <th>Route</th>\n",
       "      <th>Frequency</th>\n",
       "      <th>Duration (days)</th>\n",
       "      <th>Indication</th>\n",
       "    </tr>\n",
       "  </thead>\n",
       "  <tbody>\n",
       "    <tr>\n",
       "      <th>0</th>\n",
       "      <td>85</td>\n",
       "      <td>19/12/2019 14:41:49</td>\n",
       "      <td>Female</td>\n",
       "      <td>ccf, hypertension, ida, ckd(stage 5), ?icm,</td>\n",
       "      <td>ceftriaxone</td>\n",
       "      <td>1</td>\n",
       "      <td>IV</td>\n",
       "      <td>BD</td>\n",
       "      <td>7</td>\n",
       "      <td>icm</td>\n",
       "    </tr>\n",
       "    <tr>\n",
       "      <th>1</th>\n",
       "      <td>87</td>\n",
       "      <td>19/12/2019 16:35:25</td>\n",
       "      <td>Female</td>\n",
       "      <td>pad(lt u.l), be amputation,/post op, akt</td>\n",
       "      <td>ceftriaxone</td>\n",
       "      <td>1</td>\n",
       "      <td>IV</td>\n",
       "      <td>BD</td>\n",
       "      <td>1</td>\n",
       "      <td>post op</td>\n",
       "    </tr>\n",
       "    <tr>\n",
       "      <th>2</th>\n",
       "      <td>82</td>\n",
       "      <td>19/12/2019 15:48:49</td>\n",
       "      <td>Male</td>\n",
       "      <td>type-2dm, ihd, col, copd, ht</td>\n",
       "      <td>ofloxacin</td>\n",
       "      <td>0.4</td>\n",
       "      <td>IV</td>\n",
       "      <td>BD</td>\n",
       "      <td>3</td>\n",
       "      <td>abd distension with leg swelling</td>\n",
       "    </tr>\n",
       "    <tr>\n",
       "      <th>3</th>\n",
       "      <td>82</td>\n",
       "      <td>19/12/2019 15:50:33</td>\n",
       "      <td>Male</td>\n",
       "      <td>type-2 dm, ihd, col, copd, ht</td>\n",
       "      <td>cefipime</td>\n",
       "      <td>1</td>\n",
       "      <td>IV</td>\n",
       "      <td>BD</td>\n",
       "      <td>5</td>\n",
       "      <td>abd distension with leg swelling</td>\n",
       "    </tr>\n",
       "    <tr>\n",
       "      <th>4</th>\n",
       "      <td>82</td>\n",
       "      <td>19/12/2019 15:52:20</td>\n",
       "      <td>Male</td>\n",
       "      <td>type-2 dm, ihd, col, copd, ht</td>\n",
       "      <td>azithromycin</td>\n",
       "      <td>0.5</td>\n",
       "      <td>Oral</td>\n",
       "      <td>OD</td>\n",
       "      <td>3</td>\n",
       "      <td>abd distension with leg swelling</td>\n",
       "    </tr>\n",
       "  </tbody>\n",
       "</table>\n",
       "</div>"
      ],
      "text/plain": [
       "  Age   Date of Data Entry  Gender  \\\n",
       "0  85  19/12/2019 14:41:49  Female   \n",
       "1  87  19/12/2019 16:35:25  Female   \n",
       "2  82  19/12/2019 15:48:49    Male   \n",
       "3  82  19/12/2019 15:50:33    Male   \n",
       "4  82  19/12/2019 15:52:20    Male   \n",
       "\n",
       "                                     Diagnosis  Name of Drug Dosage (gram)  \\\n",
       "0  ccf, hypertension, ida, ckd(stage 5), ?icm,   ceftriaxone             1   \n",
       "1     pad(lt u.l), be amputation,/post op, akt   ceftriaxone             1   \n",
       "2                 type-2dm, ihd, col, copd, ht     ofloxacin           0.4   \n",
       "3                type-2 dm, ihd, col, copd, ht      cefipime             1   \n",
       "4                type-2 dm, ihd, col, copd, ht  azithromycin           0.5   \n",
       "\n",
       "  Route Frequency Duration (days)                        Indication  \n",
       "0    IV        BD               7                               icm  \n",
       "1    IV        BD               1                           post op  \n",
       "2    IV        BD               3  abd distension with leg swelling  \n",
       "3    IV        BD               5  abd distension with leg swelling  \n",
       "4  Oral        OD               3  abd distension with leg swelling  "
      ]
     },
     "execution_count": 2,
     "metadata": {},
     "output_type": "execute_result"
    }
   ],
   "source": [
    "import numpy as np # linear algebra\n",
    "import pandas as pd # data processing, CSV file I/O (e.g. pd.read_csv)\n",
    "from wordcloud import WordCloud, STOPWORDS, ImageColorGenerator\n",
    "import matplotlib.pyplot as plt\n",
    "import collections\n",
    "from sklearn.feature_extraction.text import CountVectorizer\n",
    "from sklearn.preprocessing import LabelEncoder\n",
    "from sklearn.model_selection import train_test_split\n",
    "from sklearn.ensemble import RandomForestClassifier\n",
    "from sklearn.metrics import confusion_matrix,classification_report\n",
    "import seaborn as sns\n",
    "\n",
    "df = pd.read_csv(\"D:\\Princy\\Internship\\Edunet\\Project\\Hopsital Dataset.csv\")\n",
    "print(df.shape)\n",
    "df.head()"
   ]
  },
  {
   "cell_type": "code",
   "execution_count": 3,
   "id": "3c246975-1e2f-43ba-9417-bba7562f1f9c",
   "metadata": {},
   "outputs": [
    {
     "name": "stdout",
     "output_type": "stream",
     "text": [
      "<class 'pandas.core.frame.DataFrame'>\n",
      "RangeIndex: 833 entries, 0 to 832\n",
      "Data columns (total 10 columns):\n",
      " #   Column              Non-Null Count  Dtype \n",
      "---  ------              --------------  ----- \n",
      " 0   Age                 833 non-null    object\n",
      " 1   Date of Data Entry  833 non-null    object\n",
      " 2   Gender              833 non-null    object\n",
      " 3   Diagnosis           833 non-null    object\n",
      " 4   Name of Drug        833 non-null    object\n",
      " 5   Dosage (gram)       833 non-null    object\n",
      " 6   Route               833 non-null    object\n",
      " 7   Frequency           833 non-null    object\n",
      " 8   Duration (days)     833 non-null    object\n",
      " 9   Indication          832 non-null    object\n",
      "dtypes: object(10)\n",
      "memory usage: 65.2+ KB\n"
     ]
    }
   ],
   "source": [
    "df.info()"
   ]
  },
  {
   "cell_type": "code",
   "execution_count": 4,
   "id": "e848e3b5-39a4-41c1-a411-f09048ad6fa4",
   "metadata": {},
   "outputs": [
    {
     "name": "stdout",
     "output_type": "stream",
     "text": [
      "<class 'pandas.core.frame.DataFrame'>\n",
      "RangeIndex: 833 entries, 0 to 832\n",
      "Data columns (total 14 columns):\n",
      " #   Column               Non-Null Count  Dtype         \n",
      "---  ------               --------------  -----         \n",
      " 0   Age                  833 non-null    object        \n",
      " 1   Date of Data Entry   833 non-null    object        \n",
      " 2   Gender               833 non-null    object        \n",
      " 3   Diagnosis            833 non-null    object        \n",
      " 4   Name of Drug         833 non-null    object        \n",
      " 5   Dosage (gram)        833 non-null    object        \n",
      " 6   Route                833 non-null    object        \n",
      " 7   Frequency            833 non-null    object        \n",
      " 8   Duration (days)      833 non-null    object        \n",
      " 9   Indication           832 non-null    object        \n",
      " 10  Age2                 832 non-null    float64       \n",
      " 11  Dosage (gram)2       831 non-null    float64       \n",
      " 12  Duration (days)2     831 non-null    float64       \n",
      " 13  Date of Data Entry2  831 non-null    datetime64[ns]\n",
      "dtypes: datetime64[ns](1), float64(3), object(10)\n",
      "memory usage: 91.2+ KB\n"
     ]
    },
    {
     "name": "stderr",
     "output_type": "stream",
     "text": [
      "C:\\Users\\Princy\\AppData\\Local\\Temp\\ipykernel_39056\\3541614966.py:4: UserWarning: Parsing dates in %d/%m/%Y %H:%M:%S format when dayfirst=False (the default) was specified. Pass `dayfirst=True` or specify a format to silence this warning.\n",
      "  df['Date of Data Entry2'] = pd.to_datetime(df['Date of Data Entry'],errors='coerce')\n"
     ]
    }
   ],
   "source": [
    "df['Age2'] = pd.to_numeric(df['Age'],errors='coerce')\n",
    "df['Dosage (gram)2'] = pd.to_numeric(df['Dosage (gram)'],errors='coerce')\n",
    "df['Duration (days)2'] = pd.to_numeric(df['Duration (days)'],errors='coerce')\n",
    "df['Date of Data Entry2'] = pd.to_datetime(df['Date of Data Entry'],errors='coerce')\n",
    "df.info()"
   ]
  },
  {
   "cell_type": "code",
   "execution_count": 5,
   "id": "50bd9b8b-ad9d-4d01-a11c-990cd17df9e0",
   "metadata": {},
   "outputs": [
    {
     "data": {
      "text/html": [
       "<div>\n",
       "<style scoped>\n",
       "    .dataframe tbody tr th:only-of-type {\n",
       "        vertical-align: middle;\n",
       "    }\n",
       "\n",
       "    .dataframe tbody tr th {\n",
       "        vertical-align: top;\n",
       "    }\n",
       "\n",
       "    .dataframe thead th {\n",
       "        text-align: right;\n",
       "    }\n",
       "</style>\n",
       "<table border=\"1\" class=\"dataframe\">\n",
       "  <thead>\n",
       "    <tr style=\"text-align: right;\">\n",
       "      <th></th>\n",
       "      <th>Age</th>\n",
       "      <th>Date of Data Entry</th>\n",
       "      <th>Gender</th>\n",
       "      <th>Diagnosis</th>\n",
       "      <th>Name of Drug</th>\n",
       "      <th>Dosage (gram)</th>\n",
       "      <th>Route</th>\n",
       "      <th>Frequency</th>\n",
       "      <th>Duration (days)</th>\n",
       "      <th>Indication</th>\n",
       "      <th>Age2</th>\n",
       "      <th>Dosage (gram)2</th>\n",
       "      <th>Duration (days)2</th>\n",
       "      <th>Date of Data Entry2</th>\n",
       "    </tr>\n",
       "  </thead>\n",
       "  <tbody>\n",
       "    <tr>\n",
       "      <th>528</th>\n",
       "      <td>82</td>\n",
       "      <td>Time</td>\n",
       "      <td>Sex</td>\n",
       "      <td>Diagnosis</td>\n",
       "      <td>Drugs</td>\n",
       "      <td>Dosage</td>\n",
       "      <td>Route</td>\n",
       "      <td>Freq</td>\n",
       "      <td>Duration</td>\n",
       "      <td>Indication</td>\n",
       "      <td>82.0</td>\n",
       "      <td>NaN</td>\n",
       "      <td>NaN</td>\n",
       "      <td>NaT</td>\n",
       "    </tr>\n",
       "    <tr>\n",
       "      <th>529</th>\n",
       "      <td>Age</td>\n",
       "      <td>#REF!</td>\n",
       "      <td>Sex</td>\n",
       "      <td>Diagnosis</td>\n",
       "      <td>Name of Drug</td>\n",
       "      <td>Dosage (gram)</td>\n",
       "      <td>Route</td>\n",
       "      <td>Frequency</td>\n",
       "      <td>Duration (days)</td>\n",
       "      <td>Indication</td>\n",
       "      <td>NaN</td>\n",
       "      <td>NaN</td>\n",
       "      <td>NaN</td>\n",
       "      <td>NaT</td>\n",
       "    </tr>\n",
       "  </tbody>\n",
       "</table>\n",
       "</div>"
      ],
      "text/plain": [
       "     Age Date of Data Entry Gender  Diagnosis  Name of Drug  Dosage (gram)  \\\n",
       "528   82               Time    Sex  Diagnosis         Drugs         Dosage   \n",
       "529  Age              #REF!    Sex  Diagnosis  Name of Drug  Dosage (gram)   \n",
       "\n",
       "     Route  Frequency  Duration (days)  Indication  Age2  Dosage (gram)2  \\\n",
       "528  Route       Freq         Duration  Indication  82.0             NaN   \n",
       "529  Route  Frequency  Duration (days)  Indication   NaN             NaN   \n",
       "\n",
       "     Duration (days)2 Date of Data Entry2  \n",
       "528               NaN                 NaT  \n",
       "529               NaN                 NaT  "
      ]
     },
     "execution_count": 5,
     "metadata": {},
     "output_type": "execute_result"
    }
   ],
   "source": [
    "df[(df['Dosage (gram)2'].isnull())\n",
    "  | (df['Duration (days)2'].isnull())\n",
    "  | (df['Age2'].isnull())\n",
    "  | (df['Date of Data Entry2'].isnull())\n",
    "  ]"
   ]
  },
  {
   "cell_type": "code",
   "execution_count": 6,
   "id": "da70bfcf-7819-4710-84af-fdef17c487a5",
   "metadata": {},
   "outputs": [
    {
     "name": "stdout",
     "output_type": "stream",
     "text": [
      "(831, 10)\n"
     ]
    },
    {
     "data": {
      "text/html": [
       "<div>\n",
       "<style scoped>\n",
       "    .dataframe tbody tr th:only-of-type {\n",
       "        vertical-align: middle;\n",
       "    }\n",
       "\n",
       "    .dataframe tbody tr th {\n",
       "        vertical-align: top;\n",
       "    }\n",
       "\n",
       "    .dataframe thead th {\n",
       "        text-align: right;\n",
       "    }\n",
       "</style>\n",
       "<table border=\"1\" class=\"dataframe\">\n",
       "  <thead>\n",
       "    <tr style=\"text-align: right;\">\n",
       "      <th></th>\n",
       "      <th>Age</th>\n",
       "      <th>Date of Data Entry</th>\n",
       "      <th>Gender</th>\n",
       "      <th>Diagnosis</th>\n",
       "      <th>Name of Drug</th>\n",
       "      <th>Dosage (gram)</th>\n",
       "      <th>Route</th>\n",
       "      <th>Frequency</th>\n",
       "      <th>Duration (days)</th>\n",
       "      <th>Indication</th>\n",
       "    </tr>\n",
       "  </thead>\n",
       "  <tbody>\n",
       "    <tr>\n",
       "      <th>0</th>\n",
       "      <td>85</td>\n",
       "      <td>2019-12-19 14:41:49</td>\n",
       "      <td>Female</td>\n",
       "      <td>ccf, hypertension, ida, ckd(stage 5), ?icm,</td>\n",
       "      <td>ceftriaxone</td>\n",
       "      <td>1.0</td>\n",
       "      <td>IV</td>\n",
       "      <td>BD</td>\n",
       "      <td>7</td>\n",
       "      <td>icm</td>\n",
       "    </tr>\n",
       "    <tr>\n",
       "      <th>1</th>\n",
       "      <td>87</td>\n",
       "      <td>2019-12-19 16:35:25</td>\n",
       "      <td>Female</td>\n",
       "      <td>pad(lt u.l), be amputation,/post op, akt</td>\n",
       "      <td>ceftriaxone</td>\n",
       "      <td>1.0</td>\n",
       "      <td>IV</td>\n",
       "      <td>BD</td>\n",
       "      <td>1</td>\n",
       "      <td>post op</td>\n",
       "    </tr>\n",
       "    <tr>\n",
       "      <th>2</th>\n",
       "      <td>82</td>\n",
       "      <td>2019-12-19 15:48:49</td>\n",
       "      <td>Male</td>\n",
       "      <td>type-2dm, ihd, col, copd, ht</td>\n",
       "      <td>ofloxacin</td>\n",
       "      <td>0.4</td>\n",
       "      <td>IV</td>\n",
       "      <td>BD</td>\n",
       "      <td>3</td>\n",
       "      <td>abd distension with leg swelling</td>\n",
       "    </tr>\n",
       "    <tr>\n",
       "      <th>3</th>\n",
       "      <td>82</td>\n",
       "      <td>2019-12-19 15:50:33</td>\n",
       "      <td>Male</td>\n",
       "      <td>type-2 dm, ihd, col, copd, ht</td>\n",
       "      <td>cefipime</td>\n",
       "      <td>1.0</td>\n",
       "      <td>IV</td>\n",
       "      <td>BD</td>\n",
       "      <td>5</td>\n",
       "      <td>abd distension with leg swelling</td>\n",
       "    </tr>\n",
       "    <tr>\n",
       "      <th>4</th>\n",
       "      <td>82</td>\n",
       "      <td>2019-12-19 15:52:20</td>\n",
       "      <td>Male</td>\n",
       "      <td>type-2 dm, ihd, col, copd, ht</td>\n",
       "      <td>azithromycin</td>\n",
       "      <td>0.5</td>\n",
       "      <td>Oral</td>\n",
       "      <td>OD</td>\n",
       "      <td>3</td>\n",
       "      <td>abd distension with leg swelling</td>\n",
       "    </tr>\n",
       "  </tbody>\n",
       "</table>\n",
       "</div>"
      ],
      "text/plain": [
       "   Age  Date of Data Entry  Gender  \\\n",
       "0   85 2019-12-19 14:41:49  Female   \n",
       "1   87 2019-12-19 16:35:25  Female   \n",
       "2   82 2019-12-19 15:48:49    Male   \n",
       "3   82 2019-12-19 15:50:33    Male   \n",
       "4   82 2019-12-19 15:52:20    Male   \n",
       "\n",
       "                                     Diagnosis  Name of Drug  Dosage (gram)  \\\n",
       "0  ccf, hypertension, ida, ckd(stage 5), ?icm,   ceftriaxone            1.0   \n",
       "1     pad(lt u.l), be amputation,/post op, akt   ceftriaxone            1.0   \n",
       "2                 type-2dm, ihd, col, copd, ht     ofloxacin            0.4   \n",
       "3                type-2 dm, ihd, col, copd, ht      cefipime            1.0   \n",
       "4                type-2 dm, ihd, col, copd, ht  azithromycin            0.5   \n",
       "\n",
       "  Route Frequency  Duration (days)                        Indication  \n",
       "0    IV        BD                7                               icm  \n",
       "1    IV        BD                1                           post op  \n",
       "2    IV        BD                3  abd distension with leg swelling  \n",
       "3    IV        BD                5  abd distension with leg swelling  \n",
       "4  Oral        OD                3  abd distension with leg swelling  "
      ]
     },
     "execution_count": 6,
     "metadata": {},
     "output_type": "execute_result"
    }
   ],
   "source": [
    "df = df[~((df['Dosage (gram)2'].isnull())\n",
    "  | (df['Duration (days)2'].isnull())\n",
    "  | (df['Age2'].isnull())\n",
    "  | (df['Date of Data Entry2'].isnull()))\n",
    "  ]\n",
    "\n",
    "df['Age'] = df['Age2'].astype('int')\n",
    "df['Dosage (gram)'] = df['Dosage (gram)2']\n",
    "df['Date of Data Entry'] = df['Date of Data Entry2']\n",
    "df['Duration (days)'] = df['Duration (days)2'].astype('int')\n",
    "df = df.drop(['Age2','Dosage (gram)2','Date of Data Entry2','Duration (days)2'],axis=1)\n",
    "\n",
    "print(df.shape)\n",
    "df.head()"
   ]
  },
  {
   "cell_type": "code",
   "execution_count": 7,
   "id": "fea1ce75-6917-4f73-9488-6caa95bc801a",
   "metadata": {},
   "outputs": [
    {
     "data": {
      "text/plain": [
       "<Axes: xlabel='Diagnosis', ylabel='count'>"
      ]
     },
     "execution_count": 7,
     "metadata": {},
     "output_type": "execute_result"
    },
    {
     "data": {
      "image/png": "[encoded data removed]",
      "text/plain": [
       "<Figure size 5000x1000 with 1 Axes>"
      ]
     },
     "metadata": {},
     "output_type": "display_data"
    }
   ],
   "source": [
    "plt.figure(figsize=(50, 10))\n",
    "sns.countplot(data=df, x = df['Diagnosis'] )"
   ]
  },
  {
   "cell_type": "code",
   "execution_count": 8,
   "id": "55a88fd5-6efc-4f76-832a-1d999d467131",
   "metadata": {},
   "outputs": [
    {
     "data": {
      "text/html": [
       "<div>\n",
       "<style scoped>\n",
       "    .dataframe tbody tr th:only-of-type {\n",
       "        vertical-align: middle;\n",
       "    }\n",
       "\n",
       "    .dataframe tbody tr th {\n",
       "        vertical-align: top;\n",
       "    }\n",
       "\n",
       "    .dataframe thead th {\n",
       "        text-align: right;\n",
       "    }\n",
       "</style>\n",
       "<table border=\"1\" class=\"dataframe\">\n",
       "  <thead>\n",
       "    <tr style=\"text-align: right;\">\n",
       "      <th></th>\n",
       "      <th>Age</th>\n",
       "      <th>Date of Data Entry</th>\n",
       "      <th>Gender</th>\n",
       "      <th>Diagnosis</th>\n",
       "      <th>Name of Drug</th>\n",
       "      <th>Dosage (gram)</th>\n",
       "      <th>Route</th>\n",
       "      <th>Frequency</th>\n",
       "      <th>Duration (days)</th>\n",
       "      <th>Indication</th>\n",
       "    </tr>\n",
       "  </thead>\n",
       "  <tbody>\n",
       "    <tr>\n",
       "      <th>count</th>\n",
       "      <td>831.000000</td>\n",
       "      <td>831</td>\n",
       "      <td>831</td>\n",
       "      <td>831</td>\n",
       "      <td>831</td>\n",
       "      <td>831.000000</td>\n",
       "      <td>831</td>\n",
       "      <td>831</td>\n",
       "      <td>831.000000</td>\n",
       "      <td>830</td>\n",
       "    </tr>\n",
       "    <tr>\n",
       "      <th>unique</th>\n",
       "      <td>NaN</td>\n",
       "      <td>NaN</td>\n",
       "      <td>2</td>\n",
       "      <td>263</td>\n",
       "      <td>55</td>\n",
       "      <td>NaN</td>\n",
       "      <td>3</td>\n",
       "      <td>4</td>\n",
       "      <td>NaN</td>\n",
       "      <td>220</td>\n",
       "    </tr>\n",
       "    <tr>\n",
       "      <th>top</th>\n",
       "      <td>NaN</td>\n",
       "      <td>NaN</td>\n",
       "      <td>Male</td>\n",
       "      <td>ccf, koch's lung, copd, chest infection, pre-d...</td>\n",
       "      <td>ceftriaxone</td>\n",
       "      <td>NaN</td>\n",
       "      <td>IV</td>\n",
       "      <td>BD</td>\n",
       "      <td>NaN</td>\n",
       "      <td>chest infection</td>\n",
       "    </tr>\n",
       "    <tr>\n",
       "      <th>freq</th>\n",
       "      <td>NaN</td>\n",
       "      <td>NaN</td>\n",
       "      <td>449</td>\n",
       "      <td>20</td>\n",
       "      <td>221</td>\n",
       "      <td>NaN</td>\n",
       "      <td>534</td>\n",
       "      <td>430</td>\n",
       "      <td>NaN</td>\n",
       "      <td>92</td>\n",
       "    </tr>\n",
       "    <tr>\n",
       "      <th>mean</th>\n",
       "      <td>51.194946</td>\n",
       "      <td>2019-12-19 15:18:12.971119360</td>\n",
       "      <td>NaN</td>\n",
       "      <td>NaN</td>\n",
       "      <td>NaN</td>\n",
       "      <td>5.048959</td>\n",
       "      <td>NaN</td>\n",
       "      <td>NaN</td>\n",
       "      <td>3.789410</td>\n",
       "      <td>NaN</td>\n",
       "    </tr>\n",
       "    <tr>\n",
       "      <th>min</th>\n",
       "      <td>1.000000</td>\n",
       "      <td>2019-12-19 13:49:27</td>\n",
       "      <td>NaN</td>\n",
       "      <td>NaN</td>\n",
       "      <td>NaN</td>\n",
       "      <td>0.020000</td>\n",
       "      <td>NaN</td>\n",
       "      <td>NaN</td>\n",
       "      <td>1.000000</td>\n",
       "      <td>NaN</td>\n",
       "    </tr>\n",
       "    <tr>\n",
       "      <th>25%</th>\n",
       "      <td>38.000000</td>\n",
       "      <td>2019-12-19 14:35:20</td>\n",
       "      <td>NaN</td>\n",
       "      <td>NaN</td>\n",
       "      <td>NaN</td>\n",
       "      <td>0.500000</td>\n",
       "      <td>NaN</td>\n",
       "      <td>NaN</td>\n",
       "      <td>1.000000</td>\n",
       "      <td>NaN</td>\n",
       "    </tr>\n",
       "    <tr>\n",
       "      <th>50%</th>\n",
       "      <td>52.000000</td>\n",
       "      <td>2019-12-19 15:13:40</td>\n",
       "      <td>NaN</td>\n",
       "      <td>NaN</td>\n",
       "      <td>NaN</td>\n",
       "      <td>1.000000</td>\n",
       "      <td>NaN</td>\n",
       "      <td>NaN</td>\n",
       "      <td>3.000000</td>\n",
       "      <td>NaN</td>\n",
       "    </tr>\n",
       "    <tr>\n",
       "      <th>75%</th>\n",
       "      <td>65.000000</td>\n",
       "      <td>2019-12-19 16:07:45</td>\n",
       "      <td>NaN</td>\n",
       "      <td>NaN</td>\n",
       "      <td>NaN</td>\n",
       "      <td>1.000000</td>\n",
       "      <td>NaN</td>\n",
       "      <td>NaN</td>\n",
       "      <td>5.000000</td>\n",
       "      <td>NaN</td>\n",
       "    </tr>\n",
       "    <tr>\n",
       "      <th>max</th>\n",
       "      <td>90.000000</td>\n",
       "      <td>2019-12-19 18:25:06</td>\n",
       "      <td>NaN</td>\n",
       "      <td>NaN</td>\n",
       "      <td>NaN</td>\n",
       "      <td>960.000000</td>\n",
       "      <td>NaN</td>\n",
       "      <td>NaN</td>\n",
       "      <td>28.000000</td>\n",
       "      <td>NaN</td>\n",
       "    </tr>\n",
       "    <tr>\n",
       "      <th>std</th>\n",
       "      <td>18.587287</td>\n",
       "      <td>NaN</td>\n",
       "      <td>NaN</td>\n",
       "      <td>NaN</td>\n",
       "      <td>NaN</td>\n",
       "      <td>52.499935</td>\n",
       "      <td>NaN</td>\n",
       "      <td>NaN</td>\n",
       "      <td>3.009252</td>\n",
       "      <td>NaN</td>\n",
       "    </tr>\n",
       "  </tbody>\n",
       "</table>\n",
       "</div>"
      ],
      "text/plain": [
       "               Age             Date of Data Entry Gender  \\\n",
       "count   831.000000                            831    831   \n",
       "unique         NaN                            NaN      2   \n",
       "top            NaN                            NaN   Male   \n",
       "freq           NaN                            NaN    449   \n",
       "mean     51.194946  2019-12-19 15:18:12.971119360    NaN   \n",
       "min       1.000000            2019-12-19 13:49:27    NaN   \n",
       "25%      38.000000            2019-12-19 14:35:20    NaN   \n",
       "50%      52.000000            2019-12-19 15:13:40    NaN   \n",
       "75%      65.000000            2019-12-19 16:07:45    NaN   \n",
       "max      90.000000            2019-12-19 18:25:06    NaN   \n",
       "std      18.587287                            NaN    NaN   \n",
       "\n",
       "                                                Diagnosis Name of Drug  \\\n",
       "count                                                 831          831   \n",
       "unique                                                263           55   \n",
       "top     ccf, koch's lung, copd, chest infection, pre-d...  ceftriaxone   \n",
       "freq                                                   20          221   \n",
       "mean                                                  NaN          NaN   \n",
       "min                                                   NaN          NaN   \n",
       "25%                                                   NaN          NaN   \n",
       "50%                                                   NaN          NaN   \n",
       "75%                                                   NaN          NaN   \n",
       "max                                                   NaN          NaN   \n",
       "std                                                   NaN          NaN   \n",
       "\n",
       "        Dosage (gram) Route Frequency  Duration (days)       Indication  \n",
       "count      831.000000   831       831       831.000000              830  \n",
       "unique            NaN     3         4              NaN              220  \n",
       "top               NaN    IV        BD              NaN  chest infection  \n",
       "freq              NaN   534       430              NaN               92  \n",
       "mean         5.048959   NaN       NaN         3.789410              NaN  \n",
       "min          0.020000   NaN       NaN         1.000000              NaN  \n",
       "25%          0.500000   NaN       NaN         1.000000              NaN  \n",
       "50%          1.000000   NaN       NaN         3.000000              NaN  \n",
       "75%          1.000000   NaN       NaN         5.000000              NaN  \n",
       "max        960.000000   NaN       NaN        28.000000              NaN  \n",
       "std         52.499935   NaN       NaN         3.009252              NaN  "
      ]
     },
     "execution_count": 8,
     "metadata": {},
     "output_type": "execute_result"
    }
   ],
   "source": [
    "df.describe(include='all')"
   ]
  },
  {
   "cell_type": "code",
   "execution_count": 9,
   "id": "0419aeed-162c-4996-b75b-fc787a7a90e2",
   "metadata": {},
   "outputs": [
    {
     "data": {
      "text/plain": [
       "Route\n",
       "IV      534\n",
       "Oral    293\n",
       "IM        4\n",
       "Name: count, dtype: int64"
      ]
     },
     "metadata": {},
     "output_type": "display_data"
    },
    {
     "name": "stdout",
     "output_type": "stream",
     "text": [
      "\n"
     ]
    },
    {
     "data": {
      "text/plain": [
       "Frequency\n",
       "BD     430\n",
       "TDS    283\n",
       "OD     110\n",
       "QID      8\n",
       "Name: count, dtype: int64"
      ]
     },
     "execution_count": 9,
     "metadata": {},
     "output_type": "execute_result"
    }
   ],
   "source": [
    "display(df['Route'].value_counts())\n",
    "print()\n",
    "df['Frequency'].value_counts()"
   ]
  },
  {
   "cell_type": "code",
   "execution_count": 10,
   "id": "8b477361-ced6-4690-8568-9fba8d1f11b7",
   "metadata": {},
   "outputs": [
    {
     "data": {
      "text/plain": [
       "Diagnosis\n",
       "ccf, koch's lung, copd, chest infection, pre-diabetes                               20\n",
       "general debility e excessive vomitting, uraemic gastritis, hcv aki ckd, retro(+)    18\n",
       "rvi stage 3, ht disease, renal impairment, koch's lungs, ccf, increased lft         18\n",
       "severe anaemia,  multiple myeloma,  CKD,  chest infection                           16\n",
       "neutropenia, fever, anaemia, ca buffalo mucosa, type 2 dm                           15\n",
       "                                                                                    ..\n",
       "af,  is he mic hd,  type2 dm,  newly dx rvi                                          1\n",
       "he, alcoholic hepatitis,  col,  portal ht,  hma,  uti                                1\n",
       "he,  alcoholic hepatitis,  alcohol col,  portal ht,  hma, uti                        1\n",
       "acute bronchitis                                                                     1\n",
       "uti,  operated spinal cord,  hematoma and paraplegia                                 1\n",
       "Name: count, Length: 263, dtype: int64"
      ]
     },
     "execution_count": 10,
     "metadata": {},
     "output_type": "execute_result"
    }
   ],
   "source": [
    "df['Diagnosis'].value_counts()\n"
   ]
  },
  {
   "cell_type": "code",
   "execution_count": 11,
   "id": "8853c7d7-4216-4f71-8dc8-f51045bb7808",
   "metadata": {},
   "outputs": [
    {
     "name": "stdout",
     "output_type": "stream",
     "text": [
      "There are 35359 words in the combination of all diagnosis.\n"
     ]
    },
    {
     "data": {
      "image/png": "[encoded data removed]",
      "text/plain": [
       "<Figure size 640x480 with 1 Axes>"
      ]
     },
     "metadata": {},
     "output_type": "display_data"
    }
   ],
   "source": [
    "text = \" \".join(diagnosis for diagnosis in df.Diagnosis)\n",
    "print (\"There are {} words in the combination of all diagnosis.\".format(len(text)))\n",
    "\n",
    "stopwords = set(STOPWORDS)\n",
    "\n",
    "# Generate a word cloud image\n",
    "wordcloud = WordCloud(stopwords=stopwords, background_color=\"white\").generate(text)\n",
    "\n",
    "# Display the generated image:\n",
    "# the matplotlib way:\n",
    "plt.imshow(wordcloud, interpolation='bilinear')\n",
    "plt.axis(\"off\")\n",
    "plt.show()"
   ]
  },
  {
   "cell_type": "code",
   "execution_count": 12,
   "id": "2106c56b-06c7-4c2b-b7c7-1abe1ca98045",
   "metadata": {},
   "outputs": [
    {
     "name": "stdout",
     "output_type": "stream",
     "text": [
      "Top 10 words/phrases\n"
     ]
    },
    {
     "data": {
      "text/plain": [
       "[('col', 77),\n",
       " ('chest infection', 68),\n",
       " ('ihd', 55),\n",
       " ('copd', 40),\n",
       " ('hypertension', 38),\n",
       " ('ccf', 36),\n",
       " ('type 2 dm', 32),\n",
       " (\"koch's lung\", 28),\n",
       " ('ckd', 28),\n",
       " ('uraemic gastritis', 18)]"
      ]
     },
     "metadata": {},
     "output_type": "display_data"
    },
    {
     "name": "stdout",
     "output_type": "stream",
     "text": [
      "\n",
      "Bottom 10 words/phrases\n"
     ]
    },
    {
     "data": {
      "text/plain": [
       "[('poorly controlled dm complicated uti', 1),\n",
       " ('poorly controlled dm septic shock', 1),\n",
       " ('hypertension hepatitis', 1),\n",
       " ('uti hepatitis', 1),\n",
       " ('uti uti', 1),\n",
       " ('cff ppt by chest infection early col', 1),\n",
       " ('operated spinal cord', 1),\n",
       " ('hematoma and paraplegia he', 1),\n",
       " ('rvi with col glandular fever', 1),\n",
       " ('fever with confusion ccf', 1)]"
      ]
     },
     "metadata": {},
     "output_type": "display_data"
    }
   ],
   "source": [
    "A = collections.Counter([i.strip().lower() \n",
    "  for i in text.split(',') if (i.strip().lower()) not in stopwords ])\n",
    "print('Top 10 words/phrases')\n",
    "display(A.most_common(10))\n",
    "print('\\nBottom 10 words/phrases')\n",
    "display(A.most_common()[-11:-1])"
   ]
  },
  {
   "cell_type": "code",
   "execution_count": 13,
   "id": "cc35cc7b-f2ba-467b-88f2-35338cfa71b8",
   "metadata": {},
   "outputs": [
    {
     "data": {
      "text/plain": [
       "Indication\n",
       "chest infection            92\n",
       "col                        32\n",
       "uti                        30\n",
       "type 2 dm                  25\n",
       "prevention of infection    22\n",
       "                           ..\n",
       "pad(lt u.l)                 1\n",
       "old stroke                  1\n",
       "fainting attack             1\n",
       "cheat infection             1\n",
       "centepede bite              1\n",
       "Name: count, Length: 220, dtype: int64"
      ]
     },
     "metadata": {},
     "output_type": "display_data"
    },
    {
     "name": "stdout",
     "output_type": "stream",
     "text": [
      "\n"
     ]
    },
    {
     "data": {
      "text/plain": [
       "Indication\n",
       "chest infection            0.110843\n",
       "col                        0.038554\n",
       "uti                        0.036145\n",
       "type 2 dm                  0.030120\n",
       "prevention of infection    0.026506\n",
       "                             ...   \n",
       "pad(lt u.l)                0.001205\n",
       "old stroke                 0.001205\n",
       "fainting attack            0.001205\n",
       "cheat infection            0.001205\n",
       "centepede bite             0.001205\n",
       "Name: proportion, Length: 220, dtype: float64"
      ]
     },
     "execution_count": 13,
     "metadata": {},
     "output_type": "execute_result"
    }
   ],
   "source": [
    "display(df['Indication'].value_counts())\n",
    "print()\n",
    "df['Indication'].value_counts(1)"
   ]
  },
  {
   "cell_type": "code",
   "execution_count": 14,
   "id": "f7e1c9ba-292c-46ea-b5a7-e9c6053950f5",
   "metadata": {},
   "outputs": [
    {
     "data": {
      "text/html": [
       "<div>\n",
       "<style scoped>\n",
       "    .dataframe tbody tr th:only-of-type {\n",
       "        vertical-align: middle;\n",
       "    }\n",
       "\n",
       "    .dataframe tbody tr th {\n",
       "        vertical-align: top;\n",
       "    }\n",
       "\n",
       "    .dataframe thead th {\n",
       "        text-align: right;\n",
       "    }\n",
       "</style>\n",
       "<table border=\"1\" class=\"dataframe\">\n",
       "  <thead>\n",
       "    <tr style=\"text-align: right;\">\n",
       "      <th></th>\n",
       "      <th>Indication</th>\n",
       "      <th>proportion</th>\n",
       "      <th>cum_proportion</th>\n",
       "    </tr>\n",
       "  </thead>\n",
       "  <tbody>\n",
       "    <tr>\n",
       "      <th>0</th>\n",
       "      <td>chest infection</td>\n",
       "      <td>0.110843</td>\n",
       "      <td>0.110843</td>\n",
       "    </tr>\n",
       "    <tr>\n",
       "      <th>1</th>\n",
       "      <td>col</td>\n",
       "      <td>0.038554</td>\n",
       "      <td>0.149398</td>\n",
       "    </tr>\n",
       "    <tr>\n",
       "      <th>2</th>\n",
       "      <td>uti</td>\n",
       "      <td>0.036145</td>\n",
       "      <td>0.185542</td>\n",
       "    </tr>\n",
       "    <tr>\n",
       "      <th>3</th>\n",
       "      <td>type 2 dm</td>\n",
       "      <td>0.030120</td>\n",
       "      <td>0.215663</td>\n",
       "    </tr>\n",
       "    <tr>\n",
       "      <th>4</th>\n",
       "      <td>prevention of infection</td>\n",
       "      <td>0.026506</td>\n",
       "      <td>0.242169</td>\n",
       "    </tr>\n",
       "  </tbody>\n",
       "</table>\n",
       "</div>"
      ],
      "text/plain": [
       "                Indication  proportion  cum_proportion\n",
       "0          chest infection    0.110843        0.110843\n",
       "1                      col    0.038554        0.149398\n",
       "2                      uti    0.036145        0.185542\n",
       "3                type 2 dm    0.030120        0.215663\n",
       "4  prevention of infection    0.026506        0.242169"
      ]
     },
     "execution_count": 14,
     "metadata": {},
     "output_type": "execute_result"
    }
   ],
   "source": [
    "top_indications = df['Indication'].value_counts(1).reset_index()\n",
    "top_indications['cum_proportion'] = top_indications['proportion'].cumsum()\n",
    "top_indications = top_indications[top_indications['cum_proportion']<0.25]\n",
    "top_indications"
   ]
  },
  {
   "cell_type": "code",
   "execution_count": 15,
   "id": "7eb1d5ad-b2e4-4381-8973-faf50ac4f5d5",
   "metadata": {},
   "outputs": [
    {
     "data": {
      "text/plain": [
       "55"
      ]
     },
     "metadata": {},
     "output_type": "display_data"
    },
    {
     "data": {
      "text/plain": [
       "Name of Drug\n",
       "ceftriaxone                    221\n",
       "co-amoxiclav                   162\n",
       "metronidazole                   59\n",
       "cefixime                        58\n",
       "septrin                         37\n",
       "clarithromycin                  32\n",
       "levofloxacin                    31\n",
       "amoxicillin+flucloxacillin      29\n",
       "ceftazidime                     24\n",
       "cefepime                        14\n",
       "cefipime                        13\n",
       "clindamycin                     12\n",
       "rifaximin                       10\n",
       "amikacin                         9\n",
       "cefoperazone                     9\n",
       "coamoxiclav                      9\n",
       "meropenem                        8\n",
       "ciprofloxacin                    7\n",
       "gentamicin                       5\n",
       "pen v                            5\n",
       "rifampicin                       5\n",
       "azithromycin                     5\n",
       "cifran                           4\n",
       "mirox                            4\n",
       "amoxicillin                      4\n",
       "streptomycin                     4\n",
       "ceftazidine                      4\n",
       "clarthromycin                    4\n",
       "amoxicillin+flucoxacillin        3\n",
       "cefoparazone+sulbactam           3\n",
       "linezolid                        3\n",
       "ofloxacin                        3\n",
       "norfloxacin                      3\n",
       "imipenem                         2\n",
       "flucloxacillin                   2\n",
       "ceftiaxone                       2\n",
       "cefaziclime                      2\n",
       "ceftriaxone+sulbactam            2\n",
       "cefexime                         2\n",
       "pipercillin+tazobactam           1\n",
       "amoxicillin+flucloxiacillin      1\n",
       "pentoxifylline                   1\n",
       "menopem                          1\n",
       "levefloxacin                     1\n",
       "pentoxyfylline                   1\n",
       "doxycyclin                       1\n",
       "amoxicillin+flucoxiacillin       1\n",
       "vancomycin                       1\n",
       "cefteiaxone                      1\n",
       "dazolic                          1\n",
       "amoxicillin+flucloaxcin          1\n",
       "amoxiclav                        1\n",
       "doxycycline                      1\n",
       "cefoperazone+sulbactam           1\n",
       "nitrofurantoin                   1\n",
       "Name: count, dtype: int64"
      ]
     },
     "metadata": {},
     "output_type": "display_data"
    }
   ],
   "source": [
    "display(df['Name of Drug'].nunique())\n",
    "display(df['Name of Drug'].value_counts())"
   ]
  },
  {
   "cell_type": "code",
   "execution_count": 16,
   "id": "ec8eeee8-ecad-442a-9f08-600e1b0eb973",
   "metadata": {},
   "outputs": [
    {
     "data": {
      "text/html": [
       "<div>\n",
       "<style scoped>\n",
       "    .dataframe tbody tr th:only-of-type {\n",
       "        vertical-align: middle;\n",
       "    }\n",
       "\n",
       "    .dataframe tbody tr th {\n",
       "        vertical-align: top;\n",
       "    }\n",
       "\n",
       "    .dataframe thead th {\n",
       "        text-align: right;\n",
       "    }\n",
       "</style>\n",
       "<table border=\"1\" class=\"dataframe\">\n",
       "  <thead>\n",
       "    <tr style=\"text-align: right;\">\n",
       "      <th></th>\n",
       "      <th>Name of Drug</th>\n",
       "      <th>proportion</th>\n",
       "      <th>cum_proportion</th>\n",
       "    </tr>\n",
       "  </thead>\n",
       "  <tbody>\n",
       "    <tr>\n",
       "      <th>0</th>\n",
       "      <td>ceftriaxone</td>\n",
       "      <td>0.265945</td>\n",
       "      <td>0.265945</td>\n",
       "    </tr>\n",
       "    <tr>\n",
       "      <th>1</th>\n",
       "      <td>co-amoxiclav</td>\n",
       "      <td>0.194946</td>\n",
       "      <td>0.460890</td>\n",
       "    </tr>\n",
       "    <tr>\n",
       "      <th>2</th>\n",
       "      <td>metronidazole</td>\n",
       "      <td>0.070999</td>\n",
       "      <td>0.531889</td>\n",
       "    </tr>\n",
       "    <tr>\n",
       "      <th>3</th>\n",
       "      <td>cefixime</td>\n",
       "      <td>0.069795</td>\n",
       "      <td>0.601685</td>\n",
       "    </tr>\n",
       "    <tr>\n",
       "      <th>4</th>\n",
       "      <td>septrin</td>\n",
       "      <td>0.044525</td>\n",
       "      <td>0.646209</td>\n",
       "    </tr>\n",
       "  </tbody>\n",
       "</table>\n",
       "</div>"
      ],
      "text/plain": [
       "    Name of Drug  proportion  cum_proportion\n",
       "0    ceftriaxone    0.265945        0.265945\n",
       "1   co-amoxiclav    0.194946        0.460890\n",
       "2  metronidazole    0.070999        0.531889\n",
       "3       cefixime    0.069795        0.601685\n",
       "4        septrin    0.044525        0.646209"
      ]
     },
     "execution_count": 16,
     "metadata": {},
     "output_type": "execute_result"
    }
   ],
   "source": [
    "top_drugs = (df['Name of Drug'].value_counts(1).reset_index())\n",
    "top_drugs['cum_proportion'] = top_drugs['proportion'].cumsum()\n",
    "top_drugs = top_drugs.head()\n",
    "top_drugs"
   ]
  },
  {
   "cell_type": "code",
   "execution_count": 17,
   "id": "90128d6d-1261-42c9-95bf-c07f7192ca2d",
   "metadata": {},
   "outputs": [
    {
     "data": {
      "text/html": [
       "<div>\n",
       "<style scoped>\n",
       "    .dataframe tbody tr th:only-of-type {\n",
       "        vertical-align: middle;\n",
       "    }\n",
       "\n",
       "    .dataframe tbody tr th {\n",
       "        vertical-align: top;\n",
       "    }\n",
       "\n",
       "    .dataframe thead th {\n",
       "        text-align: right;\n",
       "    }\n",
       "</style>\n",
       "<table border=\"1\" class=\"dataframe\">\n",
       "  <thead>\n",
       "    <tr style=\"text-align: right;\">\n",
       "      <th>Name of Drug</th>\n",
       "      <th>cefixime</th>\n",
       "      <th>ceftriaxone</th>\n",
       "      <th>co-amoxiclav</th>\n",
       "      <th>metronidazole</th>\n",
       "      <th>septrin</th>\n",
       "    </tr>\n",
       "    <tr>\n",
       "      <th>Indication</th>\n",
       "      <th></th>\n",
       "      <th></th>\n",
       "      <th></th>\n",
       "      <th></th>\n",
       "      <th></th>\n",
       "    </tr>\n",
       "  </thead>\n",
       "  <tbody>\n",
       "    <tr>\n",
       "      <th>chest infection</th>\n",
       "      <td>7.0</td>\n",
       "      <td>22.0</td>\n",
       "      <td>27.0</td>\n",
       "      <td>3.0</td>\n",
       "      <td>1.0</td>\n",
       "    </tr>\n",
       "    <tr>\n",
       "      <th>col</th>\n",
       "      <td>1.0</td>\n",
       "      <td>14.0</td>\n",
       "      <td>3.0</td>\n",
       "      <td>3.0</td>\n",
       "      <td>1.0</td>\n",
       "    </tr>\n",
       "    <tr>\n",
       "      <th>prevention of infection</th>\n",
       "      <td>2.0</td>\n",
       "      <td>6.0</td>\n",
       "      <td>3.0</td>\n",
       "      <td>2.0</td>\n",
       "      <td>1.0</td>\n",
       "    </tr>\n",
       "    <tr>\n",
       "      <th>type 2 dm</th>\n",
       "      <td>2.0</td>\n",
       "      <td>7.0</td>\n",
       "      <td>4.0</td>\n",
       "      <td>1.0</td>\n",
       "      <td>NaN</td>\n",
       "    </tr>\n",
       "    <tr>\n",
       "      <th>uti</th>\n",
       "      <td>3.0</td>\n",
       "      <td>9.0</td>\n",
       "      <td>2.0</td>\n",
       "      <td>NaN</td>\n",
       "      <td>NaN</td>\n",
       "    </tr>\n",
       "  </tbody>\n",
       "</table>\n",
       "</div>"
      ],
      "text/plain": [
       "Name of Drug             cefixime  ceftriaxone  co-amoxiclav  metronidazole  \\\n",
       "Indication                                                                    \n",
       "chest infection               7.0         22.0          27.0            3.0   \n",
       "col                           1.0         14.0           3.0            3.0   \n",
       "prevention of infection       2.0          6.0           3.0            2.0   \n",
       "type 2 dm                     2.0          7.0           4.0            1.0   \n",
       "uti                           3.0          9.0           2.0            NaN   \n",
       "\n",
       "Name of Drug             septrin  \n",
       "Indication                        \n",
       "chest infection              1.0  \n",
       "col                          1.0  \n",
       "prevention of infection      1.0  \n",
       "type 2 dm                    NaN  \n",
       "uti                          NaN  "
      ]
     },
     "execution_count": 17,
     "metadata": {},
     "output_type": "execute_result"
    }
   ],
   "source": [
    "(df[(df['Indication'].isin(top_indications['Indication']))\n",
    "   &(df['Name of Drug'].isin(top_drugs['Name of Drug']))]\n",
    ".pivot_table(index='Indication',columns='Name of Drug',values='Age',aggfunc='count')\n",
    ")"
   ]
  },
  {
   "cell_type": "code",
   "execution_count": 18,
   "id": "998a911f-74f8-4b25-93aa-1929541e9e70",
   "metadata": {},
   "outputs": [
    {
     "data": {
      "text/html": [
       "<div>\n",
       "<style scoped>\n",
       "    .dataframe tbody tr th:only-of-type {\n",
       "        vertical-align: middle;\n",
       "    }\n",
       "\n",
       "    .dataframe tbody tr th {\n",
       "        vertical-align: top;\n",
       "    }\n",
       "\n",
       "    .dataframe thead th {\n",
       "        text-align: right;\n",
       "    }\n",
       "</style>\n",
       "<table border=\"1\" class=\"dataframe\">\n",
       "  <thead>\n",
       "    <tr style=\"text-align: right;\">\n",
       "      <th></th>\n",
       "      <th>mean</th>\n",
       "      <th>median</th>\n",
       "      <th>count</th>\n",
       "    </tr>\n",
       "    <tr>\n",
       "      <th>Indication</th>\n",
       "      <th></th>\n",
       "      <th></th>\n",
       "      <th></th>\n",
       "    </tr>\n",
       "  </thead>\n",
       "  <tbody>\n",
       "    <tr>\n",
       "      <th>chest infection</th>\n",
       "      <td>57.173913</td>\n",
       "      <td>61.5</td>\n",
       "      <td>92</td>\n",
       "    </tr>\n",
       "    <tr>\n",
       "      <th>col</th>\n",
       "      <td>48.031250</td>\n",
       "      <td>48.0</td>\n",
       "      <td>32</td>\n",
       "    </tr>\n",
       "    <tr>\n",
       "      <th>prevention of infection</th>\n",
       "      <td>42.136364</td>\n",
       "      <td>46.0</td>\n",
       "      <td>22</td>\n",
       "    </tr>\n",
       "    <tr>\n",
       "      <th>type 2 dm</th>\n",
       "      <td>63.560000</td>\n",
       "      <td>62.0</td>\n",
       "      <td>25</td>\n",
       "    </tr>\n",
       "    <tr>\n",
       "      <th>uti</th>\n",
       "      <td>50.233333</td>\n",
       "      <td>53.5</td>\n",
       "      <td>30</td>\n",
       "    </tr>\n",
       "  </tbody>\n",
       "</table>\n",
       "</div>"
      ],
      "text/plain": [
       "                              mean  median  count\n",
       "Indication                                       \n",
       "chest infection          57.173913    61.5     92\n",
       "col                      48.031250    48.0     32\n",
       "prevention of infection  42.136364    46.0     22\n",
       "type 2 dm                63.560000    62.0     25\n",
       "uti                      50.233333    53.5     30"
      ]
     },
     "execution_count": 18,
     "metadata": {},
     "output_type": "execute_result"
    }
   ],
   "source": [
    "(df[df['Indication'].isin(top_indications['Indication'])]\n",
    ".groupby('Indication')['Age']\n",
    ".agg(['mean','median','count'])\n",
    ")"
   ]
  },
  {
   "cell_type": "code",
   "execution_count": 19,
   "id": "b1674c0a-c6b0-40bd-b450-14c1913ef954",
   "metadata": {},
   "outputs": [
    {
     "data": {
      "text/html": [
       "<div>\n",
       "<style scoped>\n",
       "    .dataframe tbody tr th:only-of-type {\n",
       "        vertical-align: middle;\n",
       "    }\n",
       "\n",
       "    .dataframe tbody tr th {\n",
       "        vertical-align: top;\n",
       "    }\n",
       "\n",
       "    .dataframe thead th {\n",
       "        text-align: right;\n",
       "    }\n",
       "</style>\n",
       "<table border=\"1\" class=\"dataframe\">\n",
       "  <thead>\n",
       "    <tr style=\"text-align: right;\">\n",
       "      <th></th>\n",
       "      <th>mean</th>\n",
       "      <th>median</th>\n",
       "      <th>count</th>\n",
       "    </tr>\n",
       "    <tr>\n",
       "      <th>Name of Drug</th>\n",
       "      <th></th>\n",
       "      <th></th>\n",
       "      <th></th>\n",
       "    </tr>\n",
       "  </thead>\n",
       "  <tbody>\n",
       "    <tr>\n",
       "      <th>septrin</th>\n",
       "      <td>44.513514</td>\n",
       "      <td>40.0</td>\n",
       "      <td>37</td>\n",
       "    </tr>\n",
       "    <tr>\n",
       "      <th>cefixime</th>\n",
       "      <td>43.137931</td>\n",
       "      <td>42.0</td>\n",
       "      <td>58</td>\n",
       "    </tr>\n",
       "    <tr>\n",
       "      <th>ceftriaxone</th>\n",
       "      <td>50.484163</td>\n",
       "      <td>49.0</td>\n",
       "      <td>221</td>\n",
       "    </tr>\n",
       "    <tr>\n",
       "      <th>metronidazole</th>\n",
       "      <td>53.661017</td>\n",
       "      <td>54.0</td>\n",
       "      <td>59</td>\n",
       "    </tr>\n",
       "    <tr>\n",
       "      <th>co-amoxiclav</th>\n",
       "      <td>56.518519</td>\n",
       "      <td>60.0</td>\n",
       "      <td>162</td>\n",
       "    </tr>\n",
       "  </tbody>\n",
       "</table>\n",
       "</div>"
      ],
      "text/plain": [
       "                    mean  median  count\n",
       "Name of Drug                           \n",
       "septrin        44.513514    40.0     37\n",
       "cefixime       43.137931    42.0     58\n",
       "ceftriaxone    50.484163    49.0    221\n",
       "metronidazole  53.661017    54.0     59\n",
       "co-amoxiclav   56.518519    60.0    162"
      ]
     },
     "execution_count": 19,
     "metadata": {},
     "output_type": "execute_result"
    }
   ],
   "source": [
    "(df[df['Name of Drug'].isin(top_drugs['Name of Drug'])]\n",
    ".groupby('Name of Drug')['Age']\n",
    ".agg(['mean','median','count']).sort_values(by='median')\n",
    ")"
   ]
  },
  {
   "cell_type": "code",
   "execution_count": 20,
   "id": "86fbbf3a-f09b-4d61-a112-d4543a0cfdda",
   "metadata": {},
   "outputs": [
    {
     "data": {
      "text/plain": [
       "Output\n",
       "Other            294\n",
       "ceftriaxone      221\n",
       "co-amoxiclav     162\n",
       "metronidazole     59\n",
       "cefixime          58\n",
       "septrin           37\n",
       "Name: count, dtype: int64"
      ]
     },
     "execution_count": 20,
     "metadata": {},
     "output_type": "execute_result"
    }
   ],
   "source": [
    "adf = df.copy()\n",
    "adf['Output'] = np.where(df['Name of Drug'].isin(top_drugs['Name of Drug']),\n",
    "                    df['Name of Drug'],'Other')\n",
    "adf['Output'].value_counts()"
   ]
  },
  {
   "cell_type": "code",
   "execution_count": 21,
   "id": "cf80488d-0f6c-4640-a26d-85c032619756",
   "metadata": {},
   "outputs": [
    {
     "data": {
      "text/plain": [
       "array(['abscess', 'acute', 'acute ge', 'af', 'aki', 'aki ckd',\n",
       "       'aki ckd retro', 'alcoholic', 'anaemia', 'art', 'bite', 'bleeding',\n",
       "       'bone', 'ca', 'cap', 'ccf', 'ccf chest', 'ccf chest infection',\n",
       "       'ccf increased', 'ccf increased lft', 'ccf koch', 'ccf koch lung',\n",
       "       'cerebral', 'cerebral infarct', 'chest', 'chest infection',\n",
       "       'chest infection pre', 'chronic', 'ckd', 'ckd chest infection',\n",
       "       'ckd retro', 'col', 'col portal', 'col portal hypertension',\n",
       "       'copd', 'copd chest', 'copd chest infection', 'debility',\n",
       "       'debility excessive', 'debility excessive vomitting', 'diabetes',\n",
       "       'disease', 'disease renal', 'disease renal impairment', 'dm',\n",
       "       'dm ihd', 'edema', 'effusion', 'encephalopathy', 'excessive',\n",
       "       'excessive vomitting', 'excessive vomitting uraemic', 'failure',\n",
       "       'fever', 'gastritis', 'gastritis hcv', 'gastritis hcv aki', 'ge',\n",
       "       'general', 'general debility', 'general debility excessive',\n",
       "       'gi bleeding', 'hcv', 'hcv aki', 'hcv aki ckd', 'hcv col', 'heart',\n",
       "       'hepatic', 'hepatic encephalopathy', 'hepatitis', 'ht',\n",
       "       'ht disease', 'ht disease renal', 'hypertension', 'ihd',\n",
       "       'impairment', 'impairment koch', 'impairment koch lungs',\n",
       "       'increased', 'increased lft', 'infarct', 'infection',\n",
       "       'infection pre', 'infection pre diabetes', 'koch', 'koch lung',\n",
       "       'koch lung copd', 'koch lungs', 'koch lungs ccf', 'left',\n",
       "       'left sided', 'leg', 'lft', 'lung', 'lung copd', 'lung copd chest',\n",
       "       'lungs', 'lungs ccf', 'lungs ccf increased', 'marrow', 'multiple',\n",
       "       'multiple myeloma', 'multiple myeloma ckd', 'myeloma',\n",
       "       'myeloma ckd', 'newly', 'old', 'pleural', 'pleural effusion',\n",
       "       'pneumonia', 'portal', 'portal hypertension', 'pre',\n",
       "       'pre diabetes', 'pulmonary', 'pulmonary edema', 'renal',\n",
       "       'renal impairment', 'renal impairment koch', 'retro', 'right',\n",
       "       'rvi', 'rvi stage', 'rvi stage ht', 'septic', 'septic shock',\n",
       "       'severe', 'severe anaemia', 'severe anaemia multiple', 'shock',\n",
       "       'sided', 'snake', 'snake bite', 'stage', 'stage ht',\n",
       "       'stage ht disease', 'stroke', 'tb', 'type', 'type dm',\n",
       "       'type dm ihd', 'uraemic', 'uraemic gastritis',\n",
       "       'uraemic gastritis hcv', 'uti', 'uti type', 'uti type dm',\n",
       "       'vomitting', 'vomitting uraemic', 'vomitting uraemic gastritis'],\n",
       "      dtype=object)"
      ]
     },
     "execution_count": 21,
     "metadata": {},
     "output_type": "execute_result"
    }
   ],
   "source": [
    "vectorizer = CountVectorizer(max_features=150,stop_words='english',\n",
    "              ngram_range=(1,3))\n",
    "X = vectorizer.fit_transform(adf['Diagnosis'].str.lower())\n",
    "vectorizer.get_feature_names_out()"
   ]
  },
  {
   "cell_type": "code",
   "execution_count": 22,
   "id": "f096ebd3-5044-4038-a412-4e6e3ad8705b",
   "metadata": {},
   "outputs": [],
   "source": [
    "feature_df = pd.DataFrame(X.toarray(),columns=vectorizer.get_feature_names_out())\n",
    "feature_df['Age'] = adf['Age'].fillna(0).astype('int')\n",
    "feature_df['Gender_Male'] = np.where(adf['Gender']=='Male',1,0)\n",
    "\n",
    "\n",
    "le = LabelEncoder()\n",
    "feature_df['Output'] = le.fit_transform(adf['Output'])"
   ]
  },
  {
   "cell_type": "code",
   "execution_count": 23,
   "id": "e1d1da83-5383-4c5f-84cf-07250dca29d6",
   "metadata": {},
   "outputs": [],
   "source": [
    "X_train, X_test, y_train, y_test = train_test_split(\n",
    "  feature_df.drop('Output',axis=1).fillna(-1), \n",
    "  feature_df['Output'], \n",
    "  test_size=0.2, random_state=0)"
   ]
  },
  {
   "cell_type": "code",
   "execution_count": 24,
   "id": "56106f26-19ab-47a2-814a-cb50fa7fd1fe",
   "metadata": {},
   "outputs": [
    {
     "data": {
      "text/html": [
       "<style>#sk-container-id-1 {color: black;background-color: white;}#sk-container-id-1 pre{padding: 0;}#sk-container-id-1 div.sk-toggleable {background-color: white;}#sk-container-id-1 label.sk-toggleable__label {cursor: pointer;display: block;width: 100%;margin-bottom: 0;padding: 0.3em;box-sizing: border-box;text-align: center;}#sk-container-id-1 label.sk-toggleable__label-arrow:before {content: \"▸\";float: left;margin-right: 0.25em;color: #696969;}#sk-container-id-1 label.sk-toggleable__label-arrow:hover:before {color: black;}#sk-container-id-1 div.sk-estimator:hover label.sk-toggleable__label-arrow:before {color: black;}#sk-container-id-1 div.sk-toggleable__content {max-height: 0;max-width: 0;overflow: hidden;text-align: left;background-color: #f0f8ff;}#sk-container-id-1 div.sk-toggleable__content pre {margin: 0.2em;color: black;border-radius: 0.25em;background-color: #f0f8ff;}#sk-container-id-1 input.sk-toggleable__control:checked~div.sk-toggleable__content {max-height: 200px;max-width: 100%;overflow: auto;}#sk-container-id-1 input.sk-toggleable__control:checked~label.sk-toggleable__label-arrow:before {content: \"▾\";}#sk-container-id-1 div.sk-estimator input.sk-toggleable__control:checked~label.sk-toggleable__label {background-color: #d4ebff;}#sk-container-id-1 div.sk-label input.sk-toggleable__control:checked~label.sk-toggleable__label {background-color: #d4ebff;}#sk-container-id-1 input.sk-hidden--visually {border: 0;clip: rect(1px 1px 1px 1px);clip: rect(1px, 1px, 1px, 1px);height: 1px;margin: -1px;overflow: hidden;padding: 0;position: absolute;width: 1px;}#sk-container-id-1 div.sk-estimator {font-family: monospace;background-color: #f0f8ff;border: 1px dotted black;border-radius: 0.25em;box-sizing: border-box;margin-bottom: 0.5em;}#sk-container-id-1 div.sk-estimator:hover {background-color: #d4ebff;}#sk-container-id-1 div.sk-parallel-item::after {content: \"\";width: 100%;border-bottom: 1px solid gray;flex-grow: 1;}#sk-container-id-1 div.sk-label:hover label.sk-toggleable__label {background-color: #d4ebff;}#sk-container-id-1 div.sk-serial::before {content: \"\";position: absolute;border-left: 1px solid gray;box-sizing: border-box;top: 0;bottom: 0;left: 50%;z-index: 0;}#sk-container-id-1 div.sk-serial {display: flex;flex-direction: column;align-items: center;background-color: white;padding-right: 0.2em;padding-left: 0.2em;position: relative;}#sk-container-id-1 div.sk-item {position: relative;z-index: 1;}#sk-container-id-1 div.sk-parallel {display: flex;align-items: stretch;justify-content: center;background-color: white;position: relative;}#sk-container-id-1 div.sk-item::before, #sk-container-id-1 div.sk-parallel-item::before {content: \"\";position: absolute;border-left: 1px solid gray;box-sizing: border-box;top: 0;bottom: 0;left: 50%;z-index: -1;}#sk-container-id-1 div.sk-parallel-item {display: flex;flex-direction: column;z-index: 1;position: relative;background-color: white;}#sk-container-id-1 div.sk-parallel-item:first-child::after {align-self: flex-end;width: 50%;}#sk-container-id-1 div.sk-parallel-item:last-child::after {align-self: flex-start;width: 50%;}#sk-container-id-1 div.sk-parallel-item:only-child::after {width: 0;}#sk-container-id-1 div.sk-dashed-wrapped {border: 1px dashed gray;margin: 0 0.4em 0.5em 0.4em;box-sizing: border-box;padding-bottom: 0.4em;background-color: white;}#sk-container-id-1 div.sk-label label {font-family: monospace;font-weight: bold;display: inline-block;line-height: 1.2em;}#sk-container-id-1 div.sk-label-container {text-align: center;}#sk-container-id-1 div.sk-container {/* jupyter's `normalize.less` sets `[hidden] { display: none; }` but bootstrap.min.css set `[hidden] { display: none !important; }` so we also need the `!important` here to be able to override the default hidden behavior on the sphinx rendered scikit-learn.org. See: https://github.com/scikit-learn/scikit-learn/issues/21755 */display: inline-block !important;position: relative;}#sk-container-id-1 div.sk-text-repr-fallback {display: none;}</style><div id=\"sk-container-id-1\" class=\"sk-top-container\"><div class=\"sk-text-repr-fallback\"><pre>RandomForestClassifier(class_weight=&#x27;balanced&#x27;, max_depth=6, random_state=0)</pre><b>In a Jupyter environment, please rerun this cell to show the HTML representation or trust the notebook. <br />On GitHub, the HTML representation is unable to render, please try loading this page with nbviewer.org.</b></div><div class=\"sk-container\" hidden><div class=\"sk-item\"><div class=\"sk-estimator sk-toggleable\"><input class=\"sk-toggleable__control sk-hidden--visually\" id=\"sk-estimator-id-1\" type=\"checkbox\" checked><label for=\"sk-estimator-id-1\" class=\"sk-toggleable__label sk-toggleable__label-arrow\">RandomForestClassifier</label><div class=\"sk-toggleable__content\"><pre>RandomForestClassifier(class_weight=&#x27;balanced&#x27;, max_depth=6, random_state=0)</pre></div></div></div></div></div>"
      ],
      "text/plain": [
       "RandomForestClassifier(class_weight='balanced', max_depth=6, random_state=0)"
      ]
     },
     "execution_count": 24,
     "metadata": {},
     "output_type": "execute_result"
    }
   ],
   "source": [
    "clf = RandomForestClassifier(max_depth=6, random_state=0, class_weight='balanced')\n",
    "clf.fit(X_train, y_train)"
   ]
  },
  {
   "cell_type": "code",
   "execution_count": 25,
   "id": "5646aff0-18de-4a69-a92c-b2761b06a890",
   "metadata": {},
   "outputs": [
    {
     "name": "stdout",
     "output_type": "stream",
     "text": [
      "final_accuracy is :  0.4322289156626506\n",
      "              precision    recall  f1-score   support\n",
      "\n",
      "           0       0.82      0.34      0.48       225\n",
      "           1       0.14      0.78      0.24        45\n",
      "           2       0.78      0.29      0.43       185\n",
      "           3       0.49      0.54      0.52       125\n",
      "           4       0.40      0.51      0.45        51\n",
      "           5       0.51      0.82      0.63        33\n",
      "\n",
      "    accuracy                           0.43       664\n",
      "   macro avg       0.52      0.55      0.46       664\n",
      "weighted avg       0.65      0.43      0.46       664\n",
      "\n"
     ]
    }
   ],
   "source": [
    "from sklearn.metrics import classification_report, accuracy_score, confusion_matrix\n",
    "final_accuracy = clf.score(X_train, y_train)\n",
    "print(\"final_accuracy is : \",final_accuracy)\n",
    "\n",
    "# creating a confusion matrix for determining and visualizing the accuracy score\n",
    "clf_predict = clf.predict(X_train)\n",
    "print(classification_report(y_train, clf_predict))"
   ]
  },
  {
   "cell_type": "code",
   "execution_count": 27,
   "id": "83b053eb-0052-46a9-bec6-b072ccf300c7",
   "metadata": {},
   "outputs": [
    {
     "name": "stdout",
     "output_type": "stream",
     "text": [
      "final_accuracy is :  0.3592814371257485\n",
      "              precision    recall  f1-score   support\n",
      "\n",
      "           0       0.72      0.30      0.43        69\n",
      "           1       0.17      0.85      0.28        13\n",
      "           2       0.36      0.14      0.20        36\n",
      "           3       0.58      0.49      0.53        37\n",
      "           4       0.26      0.62      0.37         8\n",
      "           5       0.00      0.00      0.00         4\n",
      "\n",
      "    accuracy                           0.36       167\n",
      "   macro avg       0.35      0.40      0.30       167\n",
      "weighted avg       0.53      0.36      0.38       167\n",
      "\n"
     ]
    }
   ],
   "source": [
    "final_accuracy = clf.score(X_test, y_test)\n",
    "print(\"final_accuracy is : \",final_accuracy)\n",
    "\n",
    "# creating a confusion matrix for determining and visualizing the accuracy score\n",
    "clf_predict = clf.predict(X_test)\n",
    "print(classification_report(y_test, clf_predict))"
   ]
  },
  {
   "cell_type": "code",
   "execution_count": 36,
   "id": "f497472e-9765-4e16-93e7-cdf878d2d86f",
   "metadata": {},
   "outputs": [
    {
     "data": {
      "text/plain": [
       "35.92814371257485"
      ]
     },
     "execution_count": 36,
     "metadata": {},
     "output_type": "execute_result"
    }
   ],
   "source": [
    "accuracy_score(y_test, clf_predict) * 100"
   ]
  },
  {
   "cell_type": "code",
   "execution_count": 44,
   "id": "218d108c-3710-4c71-8b63-10aa78739540",
   "metadata": {},
   "outputs": [
    {
     "data": {
      "text/plain": [
       "array([[21,  0,  4,  1,  0,  3],\n",
       "       [26, 11, 19,  8,  1,  1],\n",
       "       [ 6,  1,  5,  0,  2,  0],\n",
       "       [ 8,  0,  5, 18,  0,  0],\n",
       "       [ 6,  1,  2,  5,  5,  0],\n",
       "       [ 2,  0,  1,  5,  0,  0]], dtype=int64)"
      ]
     },
     "execution_count": 44,
     "metadata": {},
     "output_type": "execute_result"
    }
   ],
   "source": [
    "cm = confusion_matrix(clf_predict, y_test)\n",
    "cm"
   ]
  },
  {
   "cell_type": "code",
   "execution_count": 45,
   "id": "7c8d8e84-acb3-4f27-a394-aa01ecaf758a",
   "metadata": {},
   "outputs": [
    {
     "data": {
      "text/plain": [
       "<Axes: >"
      ]
     },
     "execution_count": 45,
     "metadata": {},
     "output_type": "execute_result"
    },
    {
     "data": {
      "image/png": "[encoded data removed]",
      "text/plain": [
       "<Figure size 640x480 with 2 Axes>"
      ]
     },
     "metadata": {},
     "output_type": "display_data"
    }
   ],
   "source": [
    "sns.heatmap(cm,annot=True)"
   ]
  },
  {
   "cell_type": "code",
   "execution_count": null,
   "id": "1c6500ba-0aa4-4730-b21e-01f2603380e6",
   "metadata": {},
   "outputs": [],
   "source": []
  }
 ],
 "metadata": {
  "kernelspec": {
   "display_name": "Python 3 (ipykernel)",
   "language": "python",
   "name": "python3"
  },
  "language_info": {
   "codemirror_mode": {
    "name": "ipython",
    "version": 3
   },
   "file_extension": ".py",
   "mimetype": "text/x-python",
   "name": "python",
   "nbconvert_exporter": "python",
   "pygments_lexer": "ipython3",
   "version": "3.11.7"
  }
 },
 "nbformat": 4,
 "nbformat_minor": 5
}
